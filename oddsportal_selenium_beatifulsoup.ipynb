{
 "cells": [
  {
   "cell_type": "code",
   "execution_count": 11,
   "id": "1cd2f47c",
   "metadata": {},
   "outputs": [],
   "source": [
    "from selenium import webdriver\n",
    "from bs4 import BeautifulSoup\n",
    "from selenium.webdriver.chrome.options import Options"
   ]
  },
  {
   "cell_type": "code",
   "execution_count": 15,
   "id": "e5868c93",
   "metadata": {},
   "outputs": [
    {
     "name": "stdout",
     "output_type": "stream",
     "text": [
      "Le contenu HTML a été sauvegardé dans 'page_content.html'.\n"
     ]
    }
   ],
   "source": [
    "# Configurer les options pour le mode headless\n",
    "chrome_options = Options()\n",
    "chrome_options.add_argument(\"--headless\")  # Activer le mode headless\n",
    "chrome_options.add_argument(\"--disable-gpu\")  # Nécessaire pour certains environnements\n",
    "chrome_options.add_argument(\"--window-size=1920x1080\")  # Définir une taille de fenêtre\n",
    "\n",
    "# Initialiser le driver avec les options\n",
    "driver = webdriver.Chrome(options=chrome_options)\n",
    "\n",
    "# Charger l'URL\n",
    "driver.get(\"https://www.oddsportal.com/value-bets/#1/0/overall\")\n",
    "\n",
    "# Récupérer le contenu HTML après exécution de JavaScript\n",
    "html = driver.page_source\n",
    "\n",
    "# Analyser avec BeautifulSoup\n",
    "soup = BeautifulSoup(html, 'html.parser')\n",
    "\n",
    "# Sauvegarder le contenu HTML dans un fichier local\n",
    "with open(\"page_content.html\", \"w\", encoding=\"utf-8\") as file:\n",
    "    file.write(html)\n",
    "\n",
    "print(\"Le contenu HTML a été sauvegardé dans 'page_content.html'.\")"
   ]
  },
  {
   "cell_type": "code",
   "execution_count": 16,
   "id": "c77ee7d7",
   "metadata": {},
   "outputs": [
    {
     "name": "stdout",
     "output_type": "stream",
     "text": [
      "Value Odds - Value Bets | Odds Portal\n"
     ]
    }
   ],
   "source": [
    "# Trouver la balise <title>\n",
    "title = soup.find('title')\n",
    "print(title.text)\n",
    "\n",
    "# Fermer le driver\n",
    "driver.quit()"
   ]
  },
  {
   "cell_type": "code",
   "execution_count": null,
   "id": "b9e8ee66",
   "metadata": {},
   "outputs": [],
   "source": []
  }
 ],
 "metadata": {
  "kernelspec": {
   "display_name": "Python 3",
   "language": "python",
   "name": "python3"
  },
  "language_info": {
   "codemirror_mode": {
    "name": "ipython",
    "version": 3
   },
   "file_extension": ".py",
   "mimetype": "text/x-python",
   "name": "python",
   "nbconvert_exporter": "python",
   "pygments_lexer": "ipython3",
   "version": "undefined.undefined.undefined"
  }
 },
 "nbformat": 4,
 "nbformat_minor": 5
}
